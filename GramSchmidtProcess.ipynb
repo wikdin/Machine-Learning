{
  "nbformat": 4,
  "nbformat_minor": 0,
  "metadata": {
    "coursera": {
      "course_slug": "linear-algebra-machine-learning",
      "graded_item_id": "FNk8v",
      "launcher_item_id": "DdvVk"
    },
    "kernelspec": {
      "display_name": "Python 3",
      "language": "python",
      "name": "python3"
    },
    "language_info": {
      "codemirror_mode": {
        "name": "ipython",
        "version": 3
      },
      "file_extension": ".py",
      "mimetype": "text/x-python",
      "name": "python",
      "nbconvert_exporter": "python",
      "pygments_lexer": "ipython3",
      "version": "3.6.2"
    },
    "colab": {
      "name": "GramSchmidtProcess.ipynb",
      "provenance": []
    }
  },
  "cells": [
    {
      "cell_type": "markdown",
      "metadata": {
        "id": "xGckrF0RYgUz"
      },
      "source": [
        "# Gram-Schmidt process"
      ]
    },
    {
      "cell_type": "code",
      "metadata": {
        "id": "IWwr2fkdYgUz"
      },
      "source": [
        "import numpy as np\n",
        "import numpy.linalg as la\n",
        "\n",
        "verySmallNumber = 1e-14 \n",
        "\n",
        "def gsBasis4(A) :\n",
        "    B = np.array(A, dtype=np.float_) \n",
        "    B[:, 0] = B[:, 0] / la.norm(B[:, 0])\n",
        "    B[:, 1] = B[:, 1] - B[:, 1] @ B[:, 0] * B[:, 0]\n",
        "\n",
        "    if la.norm(B[:, 1]) > verySmallNumber :\n",
        "        B[:, 1] = B[:, 1] / la.norm(B[:, 1])\n",
        "    else :\n",
        "        B[:, 1] = np.zeros_like(B[:, 1])\n",
        "    \n",
        "    B[:,2]= B[:,2]-B[:,2]@B[:,0]*B[:,0]\n",
        "    B[:,2]= B[:,2]-B[:,2]@B[:,1]*B[:,1]\n",
        "    \n",
        "    if la.norm(B[:, 2]) > verySmallNumber :\n",
        "        B[:, 2] = B[:, 2] / la.norm(B[:, 2])\n",
        "    else :\n",
        "        B[:, 2] = np.zeros_like(B[:, 2])\n",
        "       \n",
        "    \n",
        "    B[:,3]= B[:,3]-B[:,3]@B[:,0]*B[:,0]\n",
        "    B[:,3]= B[:,3]-B[:,3]@B[:,1]*B[:,1]\n",
        "    B[:,3]= B[:,3]-B[:,3]@B[:,2]*B[:,2]\n",
        "    \n",
        "    \n",
        "    if la.norm(B[:, 3]) > verySmallNumber :\n",
        "        B[:, 3] = B[:, 3] / la.norm(B[:, 3])\n",
        "    else :\n",
        "        B[:, 3] = np.zeros_like(B[:, 3])\n",
        "   \n",
        "    return B\n",
        "\n",
        "def gsBasis(A) :\n",
        "    B = np.array(A, dtype=np.float_) \n",
        "    for i in range(B.shape[1]) :\n",
        "        \n",
        "        for j in range(i) :\n",
        "            \n",
        "            B[:, i] = B[:,i]-B[:,i]@B[:,j]*B[:,j]\n",
        "       \n",
        "        if la.norm(B[:,i])>verySmallNumber:\n",
        "            B[:,i]=B[:,i]/la.norm(B[:,i])\n",
        "        else:\n",
        "            B[:, i] = np.zeros_like(B[:, i])\n",
        "    \n",
        "    return B\n",
        "\n",
        "def dimensions(A) :\n",
        "    return np.sum(la.norm(gsBasis(A), axis=0))\n"
      ],
      "execution_count": null,
      "outputs": []
    },
    {
      "cell_type": "code",
      "metadata": {
        "id": "igmiPnfhYgUz",
        "outputId": "51a3c821-a07a-415c-bc50-9ad8ce243448"
      },
      "source": [
        "V = np.array([[1,0,2,6],\n",
        "              [0,1,8,2],\n",
        "              [2,8,3,1],\n",
        "              [1,-6,2,3]], dtype=np.float_)\n",
        "gsBasis4(V)"
      ],
      "execution_count": null,
      "outputs": [
        {
          "output_type": "execute_result",
          "data": {
            "text/plain": [
              "array([[ 0.40824829, -0.1814885 ,  0.04982278,  0.89325973],\n",
              "       [ 0.        ,  0.1088931 ,  0.99349591, -0.03328918],\n",
              "       [ 0.81649658,  0.50816781, -0.06462163, -0.26631346],\n",
              "       [ 0.40824829, -0.83484711,  0.07942048, -0.36063281]])"
            ]
          },
          "metadata": {
            "tags": []
          },
          "execution_count": 2
        }
      ]
    },
    {
      "cell_type": "code",
      "metadata": {
        "id": "Pivhee-1YgU0",
        "outputId": "fa18fefa-9e63-4398-e3c3-075361c8c2ac"
      },
      "source": [
        "# Once you've done Gram-Schmidt once,\n",
        "# doing it again should give you the same result. Testing:\n",
        "U = gsBasis4(V)\n",
        "gsBasis4(U)"
      ],
      "execution_count": null,
      "outputs": [
        {
          "output_type": "execute_result",
          "data": {
            "text/plain": [
              "array([[ 0.40824829, -0.1814885 ,  0.04982278,  0.89325973],\n",
              "       [ 0.        ,  0.1088931 ,  0.99349591, -0.03328918],\n",
              "       [ 0.81649658,  0.50816781, -0.06462163, -0.26631346],\n",
              "       [ 0.40824829, -0.83484711,  0.07942048, -0.36063281]])"
            ]
          },
          "metadata": {
            "tags": []
          },
          "execution_count": 3
        }
      ]
    },
    {
      "cell_type": "code",
      "metadata": {
        "id": "jmlhD7YqYgU0",
        "outputId": "ac209009-6ad3-40dd-acba-60858d5159aa"
      },
      "source": [
        "# Try the general function too.\n",
        "gsBasis(V)"
      ],
      "execution_count": null,
      "outputs": [
        {
          "output_type": "execute_result",
          "data": {
            "text/plain": [
              "array([[ 0.40824829, -0.1814885 ,  0.04982278,  0.89325973],\n",
              "       [ 0.        ,  0.1088931 ,  0.99349591, -0.03328918],\n",
              "       [ 0.81649658,  0.50816781, -0.06462163, -0.26631346],\n",
              "       [ 0.40824829, -0.83484711,  0.07942048, -0.36063281]])"
            ]
          },
          "metadata": {
            "tags": []
          },
          "execution_count": 6
        }
      ]
    },
    {
      "cell_type": "code",
      "metadata": {
        "id": "C1a3qbvJYgU0",
        "outputId": "7158d8e1-d887-4f27-ce00-7c4569751e10"
      },
      "source": [
        "A = np.array([[3,2,3],\n",
        "              [2,5,-1],\n",
        "              [2,4,8],\n",
        "              [12,2,1]], dtype=np.float_)\n",
        "gsBasis(A)"
      ],
      "execution_count": null,
      "outputs": [
        {
          "output_type": "execute_result",
          "data": {
            "text/plain": [
              "array([[ 0.23643312,  0.18771349,  0.22132104],\n",
              "       [ 0.15762208,  0.74769023, -0.64395812],\n",
              "       [ 0.15762208,  0.57790444,  0.72904263],\n",
              "       [ 0.94573249, -0.26786082, -0.06951101]])"
            ]
          },
          "metadata": {
            "tags": []
          },
          "execution_count": 7
        }
      ]
    },
    {
      "cell_type": "code",
      "metadata": {
        "id": "SWgSPU8oYgU0",
        "outputId": "70c2242a-6878-4d9e-f54c-d3d7a44be104"
      },
      "source": [
        "dimensions(A)"
      ],
      "execution_count": null,
      "outputs": [
        {
          "output_type": "execute_result",
          "data": {
            "text/plain": [
              "3.0"
            ]
          },
          "metadata": {
            "tags": []
          },
          "execution_count": 8
        }
      ]
    },
    {
      "cell_type": "code",
      "metadata": {
        "id": "zt1tx7QpYgU0",
        "outputId": "c22e6930-c3ef-4817-eda7-d0a15a75931f"
      },
      "source": [
        "B = np.array([[6,2,1,7,5],\n",
        "              [2,8,5,-4,1],\n",
        "              [1,-6,3,2,8]], dtype=np.float_)\n",
        "gsBasis(B)"
      ],
      "execution_count": null,
      "outputs": [
        {
          "output_type": "execute_result",
          "data": {
            "text/plain": [
              "array([[ 0.93704257, -0.12700832, -0.32530002,  0.        ,  0.        ],\n",
              "       [ 0.31234752,  0.72140727,  0.61807005,  0.        ,  0.        ],\n",
              "       [ 0.15617376, -0.6807646 ,  0.71566005,  0.        ,  0.        ]])"
            ]
          },
          "metadata": {
            "tags": []
          },
          "execution_count": 9
        }
      ]
    },
    {
      "cell_type": "code",
      "metadata": {
        "id": "wSw5pAkjYgU0",
        "outputId": "03dbeb91-5bc9-498f-a294-11d8eed9239e"
      },
      "source": [
        "dimensions(B)"
      ],
      "execution_count": null,
      "outputs": [
        {
          "output_type": "execute_result",
          "data": {
            "text/plain": [
              "3.0"
            ]
          },
          "metadata": {
            "tags": []
          },
          "execution_count": 10
        }
      ]
    },
    {
      "cell_type": "code",
      "metadata": {
        "id": "d9wBll9yYgU1",
        "outputId": "ce64cd81-5264-4f04-d18d-cf3c2b5e8cde"
      },
      "source": [
        "C = np.array([[1,0,2],\n",
        "              [0,1,-3],\n",
        "              [1,0,2]], dtype=np.float_)\n",
        "gsBasis(C)"
      ],
      "execution_count": null,
      "outputs": [
        {
          "output_type": "execute_result",
          "data": {
            "text/plain": [
              "array([[ 0.70710678,  0.        ,  0.        ],\n",
              "       [ 0.        ,  1.        ,  0.        ],\n",
              "       [ 0.70710678,  0.        ,  0.        ]])"
            ]
          },
          "metadata": {
            "tags": []
          },
          "execution_count": 11
        }
      ]
    },
    {
      "cell_type": "code",
      "metadata": {
        "id": "b4S_jEFWYgU1",
        "outputId": "2e262d32-2458-4a49-cc0e-90b7436774f4"
      },
      "source": [
        "dimensions(C)"
      ],
      "execution_count": null,
      "outputs": [
        {
          "output_type": "execute_result",
          "data": {
            "text/plain": [
              "2.0"
            ]
          },
          "metadata": {
            "tags": []
          },
          "execution_count": 12
        }
      ]
    }
  ]
}