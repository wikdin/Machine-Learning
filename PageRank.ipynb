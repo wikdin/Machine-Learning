{
  "nbformat": 4,
  "nbformat_minor": 0,
  "metadata": {
    "coursera": {
      "course_slug": "linear-algebra-machine-learning",
      "graded_item_id": "Sfbnp",
      "launcher_item_id": "aPxf3"
    },
    "kernelspec": {
      "display_name": "Python 3",
      "language": "python",
      "name": "python3"
    },
    "language_info": {
      "codemirror_mode": {
        "name": "ipython",
        "version": 3
      },
      "file_extension": ".py",
      "mimetype": "text/x-python",
      "name": "python",
      "nbconvert_exporter": "python",
      "pygments_lexer": "ipython3",
      "version": "3.6.2"
    },
    "colab": {
      "name": "PageRank.ipynb",
      "provenance": []
    }
  },
  "cells": [
    {
      "cell_type": "markdown",
      "metadata": {
        "collapsed": true,
        "id": "D_KRP3yhYXmR"
      },
      "source": [
        "# PageRank"
      ]
    },
    {
      "cell_type": "code",
      "metadata": {
        "id": "XJI3guOpYXmR",
        "outputId": "c4f58f18-72fa-4a47-997c-25d4181e36cd"
      },
      "source": [
        "%pylab notebook\n",
        "import numpy as np\n",
        "import numpy.linalg as la\n",
        "from readonly.PageRankFunctions import *\n",
        "np.set_printoptions(suppress=True)"
      ],
      "execution_count": null,
      "outputs": [
        {
          "output_type": "stream",
          "text": [
            "Populating the interactive namespace from numpy and matplotlib\n"
          ],
          "name": "stdout"
        }
      ]
    },
    {
      "cell_type": "code",
      "metadata": {
        "id": "vyjvCzqjYXmT"
      },
      "source": [
        "L = np.array([[0,   1/2, 1/3, 0, 0,   0 ],\n",
        "              [1/3, 0,   0,   0, 1/2, 0 ],\n",
        "              [1/3, 1/2, 0,   1, 0,   1/2 ],\n",
        "              [1/3, 0,   1/3, 0, 1/2, 1/2 ],\n",
        "              [0,   0,   0,   0, 0,   0 ],\n",
        "              [0,   0,   1/3, 0, 0,   0 ]])"
      ],
      "execution_count": null,
      "outputs": []
    },
    {
      "cell_type": "code",
      "metadata": {
        "id": "749pd50NYXmT",
        "outputId": "df541435-669f-4465-d111-2d5ef6890608"
      },
      "source": [
        "eVals, eVecs = la.eig(L) # Gets the eigenvalues and vectors\n",
        "order = np.absolute(eVals).argsort()[::-1] # Orders them by their eigenvalues\n",
        "eVals = eVals[order]\n",
        "eVecs = eVecs[:,order]\n",
        "\n",
        "r = eVecs[:, 0] # Sets r to be the principal eigenvector\n",
        "100 * np.real(r / np.sum(r)) # Make this eigenvector sum to one, then multiply by 100 Procrastinating Pats"
      ],
      "execution_count": null,
      "outputs": [
        {
          "output_type": "execute_result",
          "data": {
            "text/plain": [
              "array([ 16.        ,   5.33333333,  40.        ,  25.33333333,\n",
              "         0.        ,  13.33333333])"
            ]
          },
          "metadata": {
            "tags": []
          },
          "execution_count": 3
        }
      ]
    },
    {
      "cell_type": "code",
      "metadata": {
        "id": "fc47TtJuYXmU",
        "outputId": "3cc11a06-8b22-4f46-d78f-31b923043411"
      },
      "source": [
        "r = 100 * np.ones(6) / 6 \n",
        "r"
      ],
      "execution_count": null,
      "outputs": [
        {
          "output_type": "execute_result",
          "data": {
            "text/plain": [
              "array([ 16.66666667,  16.66666667,  16.66666667,  16.66666667,\n",
              "        16.66666667,  16.66666667])"
            ]
          },
          "metadata": {
            "tags": []
          },
          "execution_count": 4
        }
      ]
    },
    {
      "cell_type": "markdown",
      "metadata": {
        "id": "Mr6uj-ktYXmU"
      },
      "source": [
        "Next, let's update the vector to the next minute, with the matrix $L$.\n",
        "Run the following cell multiple times, until the answer stabilises."
      ]
    },
    {
      "cell_type": "code",
      "metadata": {
        "id": "5OSPMeOWYXmU",
        "outputId": "e4114e18-4f32-41bd-bce7-a7fc95913e99"
      },
      "source": [
        "r = L @ r \n",
        "r"
      ],
      "execution_count": null,
      "outputs": [
        {
          "output_type": "execute_result",
          "data": {
            "text/plain": [
              "array([ 13.88888889,  13.88888889,  38.88888889,  27.77777778,\n",
              "         0.        ,   5.55555556])"
            ]
          },
          "metadata": {
            "tags": []
          },
          "execution_count": 5
        }
      ]
    },
    {
      "cell_type": "markdown",
      "metadata": {
        "id": "Vk-wBEeVYXmU"
      },
      "source": [
        "We can automate applying this matrix multiple times as follows,"
      ]
    },
    {
      "cell_type": "code",
      "metadata": {
        "id": "i_99Zk_wYXmU",
        "outputId": "ddbe12ec-8215-4442-a77a-a9f72cc8b963"
      },
      "source": [
        "r = 100 * np.ones(6) / 6 # Sets up this vector (6 entries of 1/6 × 100 each)\n",
        "for i in np.arange(100) : # Repeat 100 times\n",
        "    r = L @ r\n",
        "r"
      ],
      "execution_count": null,
      "outputs": [
        {
          "output_type": "execute_result",
          "data": {
            "text/plain": [
              "array([ 16.        ,   5.33333333,  40.        ,  25.33333333,\n",
              "         0.        ,  13.33333333])"
            ]
          },
          "metadata": {
            "tags": []
          },
          "execution_count": 6
        }
      ]
    },
    {
      "cell_type": "code",
      "metadata": {
        "id": "KtIM3ytoYXmU",
        "outputId": "e619ec2f-3316-49df-da05-cdf74552b732"
      },
      "source": [
        "r = 100 * np.ones(6) / 6 # Sets up this vector (6 entries of 1/6 × 100 each)\n",
        "lastR = r\n",
        "r = L @ r\n",
        "i = 0\n",
        "while la.norm(lastR - r) > 0.01 :\n",
        "    lastR = r\n",
        "    r = L @ r\n",
        "    i += 1\n",
        "print(str(i) + \" iterations to convergence.\")\n",
        "r"
      ],
      "execution_count": null,
      "outputs": [
        {
          "output_type": "stream",
          "text": [
            "18 iterations to convergence.\n"
          ],
          "name": "stdout"
        },
        {
          "output_type": "execute_result",
          "data": {
            "text/plain": [
              "array([ 16.00149917,   5.33252025,  39.99916911,  25.3324738 ,\n",
              "         0.        ,  13.33433767])"
            ]
          },
          "metadata": {
            "tags": []
          },
          "execution_count": 7
        }
      ]
    },
    {
      "cell_type": "code",
      "metadata": {
        "id": "qH2-jysIYXmV"
      },
      "source": [
        " # We'll call this one L2, to distinguish it from the previous L.\n",
        "L2 = np.array([[0,   1/2, 1/3, 0, 0,   0, 0 ],\n",
        "               [1/3, 0,   0,   0, 1/2, 0, 0 ],\n",
        "               [1/3, 1/2, 0,   1, 0,   1/3, 0 ],\n",
        "               [1/3, 0,   1/3, 0, 1/2, 1/3, 0 ],\n",
        "               [0,   0,   0,   0, 0,   0, 0 ],\n",
        "               [0,   0,   1/3, 0, 0,   0, 0 ],\n",
        "               [0,   0,   0,   0, 0,   1/3, 1 ]])"
      ],
      "execution_count": null,
      "outputs": []
    },
    {
      "cell_type": "code",
      "metadata": {
        "id": "9oXa_iQWYXmV",
        "outputId": "23dd5f3c-bd9f-4463-b98b-04d78160e8d8"
      },
      "source": [
        "r = 100 * np.ones(7) / 7 # Sets up this vector (6 entries of 1/6 × 100 each)\n",
        "lastR = r\n",
        "r = L2 @ r\n",
        "i = 0\n",
        "while la.norm(lastR - r) > 0.01 :\n",
        "    lastR = r\n",
        "    r = L2 @ r\n",
        "    i += 1\n",
        "print(str(i) + \" iterations to convergence.\")\n",
        "r"
      ],
      "execution_count": null,
      "outputs": [
        {
          "output_type": "stream",
          "text": [
            "131 iterations to convergence.\n"
          ],
          "name": "stdout"
        },
        {
          "output_type": "execute_result",
          "data": {
            "text/plain": [
              "array([  0.03046998,   0.01064323,   0.07126612,   0.04423198,\n",
              "         0.        ,   0.02489342,  99.81849527])"
            ]
          },
          "metadata": {
            "tags": []
          },
          "execution_count": 10
        }
      ]
    },
    {
      "cell_type": "code",
      "metadata": {
        "id": "1a35VLsrYXmV"
      },
      "source": [
        "d = 0.5 \n",
        "M = d * L2 + (1-d)/7 * np.ones([7, 7]) "
      ],
      "execution_count": null,
      "outputs": []
    },
    {
      "cell_type": "code",
      "metadata": {
        "id": "dJrVFp2iYXmV",
        "outputId": "7990ec4d-3df3-4056-f279-7c4fbdafbd63"
      },
      "source": [
        "r = 100 * np.ones(7) / 7 # Sets up this vector (6 entries of 1/6 × 100 each)\n",
        "lastR = r\n",
        "r = M @ r\n",
        "i = 0\n",
        "while la.norm(lastR - r) > 0.01 :\n",
        "    lastR = r\n",
        "    r = M @ r\n",
        "    i += 1\n",
        "print(str(i) + \" iterations to convergence.\")\n",
        "r"
      ],
      "execution_count": null,
      "outputs": [
        {
          "output_type": "stream",
          "text": [
            "8 iterations to convergence.\n"
          ],
          "name": "stdout"
        },
        {
          "output_type": "execute_result",
          "data": {
            "text/plain": [
              "array([ 13.68217054,  11.20902965,  22.41964343,  16.7593433 ,\n",
              "         7.14285714,  10.87976354,  17.90719239])"
            ]
          },
          "metadata": {
            "tags": []
          },
          "execution_count": 12
        }
      ]
    },
    {
      "cell_type": "markdown",
      "metadata": {
        "id": "dXSPhE1dYXmV"
      },
      "source": [
        "## Part 2 - Assessment"
      ]
    },
    {
      "cell_type": "code",
      "metadata": {
        "id": "BISG04WJYXmV"
      },
      "source": [
        "import numpy as np\n",
        "import numpy.linalg as la\n",
        "from readonly.PageRankFunctions import *\n",
        "np.set_printoptions(suppress=True)"
      ],
      "execution_count": null,
      "outputs": []
    },
    {
      "cell_type": "code",
      "metadata": {
        "id": "p3mSV_UvYXmV"
      },
      "source": [
        "def pageRank(linkMatrix, d) :\n",
        "    n = linkMatrix.shape[0]\n",
        "    M = d * linkMatrix + (1-d)/n * np.ones([n, n])\n",
        "    r = 100 * np.ones(n) / n # Sets up this vector (6 entries of 1/6 × 100 each)\n",
        "    last = r\n",
        "    r = M @ r\n",
        "    while la.norm(last - r) > 0.01 :\n",
        "        last = r\n",
        "        r = M @ r\n",
        "    return r\n"
      ],
      "execution_count": null,
      "outputs": []
    },
    {
      "cell_type": "code",
      "metadata": {
        "id": "1r4Wl5bsYXmV",
        "outputId": "b52ae60d-d3fa-4d12-e151-d5dd41caa17e"
      },
      "source": [
        "generate_internet(5)"
      ],
      "execution_count": null,
      "outputs": [
        {
          "output_type": "execute_result",
          "data": {
            "text/plain": [
              "array([[ 0.2,  0.2,  0. ,  0. ,  0.2],\n",
              "       [ 0.2,  0.2,  0. ,  0. ,  0.2],\n",
              "       [ 0.2,  0.2,  0. ,  0. ,  0.2],\n",
              "       [ 0.2,  0.2,  1. ,  0. ,  0.2],\n",
              "       [ 0.2,  0.2,  0. ,  1. ,  0.2]])"
            ]
          },
          "metadata": {
            "tags": []
          },
          "execution_count": 21
        }
      ]
    },
    {
      "cell_type": "code",
      "metadata": {
        "id": "NTr1PVBIYXmW"
      },
      "source": [
        "L = generate_internet(10)"
      ],
      "execution_count": null,
      "outputs": []
    },
    {
      "cell_type": "code",
      "metadata": {
        "id": "1l9y4OiXYXmW",
        "outputId": "9d167ab0-1264-486c-f648-280a6304dc1c"
      },
      "source": [
        "pageRank(L, 1)"
      ],
      "execution_count": null,
      "outputs": [
        {
          "output_type": "execute_result",
          "data": {
            "text/plain": [
              "array([  4.54513629,   4.54513629,   9.09153148,  27.27154494,\n",
              "        18.18240602,   4.54513629,   9.09153148,   4.54513629,\n",
              "        13.63730464,   4.54513629])"
            ]
          },
          "metadata": {
            "tags": []
          },
          "execution_count": 23
        }
      ]
    },
    {
      "cell_type": "code",
      "metadata": {
        "id": "P07vn68MYXmW",
        "outputId": "2737245f-13c4-4f46-c186-47b7ca3607a5"
      },
      "source": [
        "eVals, eVecs = la.eig(L) # Gets the eigenvalues and vectors\n",
        "order = np.absolute(eVals).argsort()[::-1] # Orders them by their eigenvalues\n",
        "eVals = eVals[order]\n",
        "eVecs = eVecs[:,order]\n",
        "\n",
        "r = eVecs[:, 0]\n",
        "100 * np.real(r / np.sum(r))"
      ],
      "execution_count": null,
      "outputs": [
        {
          "output_type": "execute_result",
          "data": {
            "text/plain": [
              "array([  4.54545455,   4.54545455,   9.09090909,  27.27272725,\n",
              "        18.18181818,   4.54545455,   9.09090909,   4.54545455,\n",
              "        13.63636363,   4.54545455])"
            ]
          },
          "metadata": {
            "tags": []
          },
          "execution_count": 24
        }
      ]
    },
    {
      "cell_type": "code",
      "metadata": {
        "id": "olly0oI6YXmW",
        "outputId": "0b218eeb-b7c2-45be-d13f-c2edff99732b"
      },
      "source": [
        "%pylab notebook\n",
        "r = pageRank(generate_internet(100), 0.9)\n",
        "plt.bar(arange(r.shape[0]), r);"
      ],
      "execution_count": null,
      "outputs": [
        {
          "output_type": "stream",
          "text": [
            "Populating the interactive namespace from numpy and matplotlib\n"
          ],
          "name": "stdout"
        },
        {
          "output_type": "display_data",
          "data": {
            "application/javascript": [
              "/* Put everything inside the global mpl namespace */\n",
              "window.mpl = {};\n",
              "\n",
              "\n",
              "mpl.get_websocket_type = function() {\n",
              "    if (typeof(WebSocket) !== 'undefined') {\n",
              "        return WebSocket;\n",
              "    } else if (typeof(MozWebSocket) !== 'undefined') {\n",
              "        return MozWebSocket;\n",
              "    } else {\n",
              "        alert('Your browser does not have WebSocket support.' +\n",
              "              'Please try Chrome, Safari or Firefox ≥ 6. ' +\n",
              "              'Firefox 4 and 5 are also supported but you ' +\n",
              "              'have to enable WebSockets in about:config.');\n",
              "    };\n",
              "}\n",
              "\n",
              "mpl.figure = function(figure_id, websocket, ondownload, parent_element) {\n",
              "    this.id = figure_id;\n",
              "\n",
              "    this.ws = websocket;\n",
              "\n",
              "    this.supports_binary = (this.ws.binaryType != undefined);\n",
              "\n",
              "    if (!this.supports_binary) {\n",
              "        var warnings = document.getElementById(\"mpl-warnings\");\n",
              "        if (warnings) {\n",
              "            warnings.style.display = 'block';\n",
              "            warnings.textContent = (\n",
              "                \"This browser does not support binary websocket messages. \" +\n",
              "                    \"Performance may be slow.\");\n",
              "        }\n",
              "    }\n",
              "\n",
              "    this.imageObj = new Image();\n",
              "\n",
              "    this.context = undefined;\n",
              "    this.message = undefined;\n",
              "    this.canvas = undefined;\n",
              "    this.rubberband_canvas = undefined;\n",
              "    this.rubberband_context = undefined;\n",
              "    this.format_dropdown = undefined;\n",
              "\n",
              "    this.image_mode = 'full';\n",
              "\n",
              "    this.root = $('<div/>');\n",
              "    this._root_extra_style(this.root)\n",
              "    this.root.attr('style', 'display: inline-block');\n",
              "\n",
              "    $(parent_element).append(this.root);\n",
              "\n",
              "    this._init_header(this);\n",
              "    this._init_canvas(this);\n",
              "    this._init_toolbar(this);\n",
              "\n",
              "    var fig = this;\n",
              "\n",
              "    this.waiting = false;\n",
              "\n",
              "    this.ws.onopen =  function () {\n",
              "            fig.send_message(\"supports_binary\", {value: fig.supports_binary});\n",
              "            fig.send_message(\"send_image_mode\", {});\n",
              "            if (mpl.ratio != 1) {\n",
              "                fig.send_message(\"set_dpi_ratio\", {'dpi_ratio': mpl.ratio});\n",
              "            }\n",
              "            fig.send_message(\"refresh\", {});\n",
              "        }\n",
              "\n",
              "    this.imageObj.onload = function() {\n",
              "            if (fig.image_mode == 'full') {\n",
              "                // Full images could contain transparency (where diff images\n",
              "                // almost always do), so we need to clear the canvas so that\n",
              "                // there is no ghosting.\n",
              "                fig.context.clearRect(0, 0, fig.canvas.width, fig.canvas.height);\n",
              "            }\n",
              "            fig.context.drawImage(fig.imageObj, 0, 0);\n",
              "        };\n",
              "\n",
              "    this.imageObj.onunload = function() {\n",
              "        this.ws.close();\n",
              "    }\n",
              "\n",
              "    this.ws.onmessage = this._make_on_message_function(this);\n",
              "\n",
              "    this.ondownload = ondownload;\n",
              "}\n",
              "\n",
              "mpl.figure.prototype._init_header = function() {\n",
              "    var titlebar = $(\n",
              "        '<div class=\"ui-dialog-titlebar ui-widget-header ui-corner-all ' +\n",
              "        'ui-helper-clearfix\"/>');\n",
              "    var titletext = $(\n",
              "        '<div class=\"ui-dialog-title\" style=\"width: 100%; ' +\n",
              "        'text-align: center; padding: 3px;\"/>');\n",
              "    titlebar.append(titletext)\n",
              "    this.root.append(titlebar);\n",
              "    this.header = titletext[0];\n",
              "}\n",
              "\n",
              "\n",
              "\n",
              "mpl.figure.prototype._canvas_extra_style = function(canvas_div) {\n",
              "\n",
              "}\n",
              "\n",
              "\n",
              "mpl.figure.prototype._root_extra_style = function(canvas_div) {\n",
              "\n",
              "}\n",
              "\n",
              "mpl.figure.prototype._init_canvas = function() {\n",
              "    var fig = this;\n",
              "\n",
              "    var canvas_div = $('<div/>');\n",
              "\n",
              "    canvas_div.attr('style', 'position: relative; clear: both; outline: 0');\n",
              "\n",
              "    function canvas_keyboard_event(event) {\n",
              "        return fig.key_event(event, event['data']);\n",
              "    }\n",
              "\n",
              "    canvas_div.keydown('key_press', canvas_keyboard_event);\n",
              "    canvas_div.keyup('key_release', canvas_keyboard_event);\n",
              "    this.canvas_div = canvas_div\n",
              "    this._canvas_extra_style(canvas_div)\n",
              "    this.root.append(canvas_div);\n",
              "\n",
              "    var canvas = $('<canvas/>');\n",
              "    canvas.addClass('mpl-canvas');\n",
              "    canvas.attr('style', \"left: 0; top: 0; z-index: 0; outline: 0\")\n",
              "\n",
              "    this.canvas = canvas[0];\n",
              "    this.context = canvas[0].getContext(\"2d\");\n",
              "\n",
              "    var backingStore = this.context.backingStorePixelRatio ||\n",
              "\tthis.context.webkitBackingStorePixelRatio ||\n",
              "\tthis.context.mozBackingStorePixelRatio ||\n",
              "\tthis.context.msBackingStorePixelRatio ||\n",
              "\tthis.context.oBackingStorePixelRatio ||\n",
              "\tthis.context.backingStorePixelRatio || 1;\n",
              "\n",
              "    mpl.ratio = (window.devicePixelRatio || 1) / backingStore;\n",
              "\n",
              "    var rubberband = $('<canvas/>');\n",
              "    rubberband.attr('style', \"position: absolute; left: 0; top: 0; z-index: 1;\")\n",
              "\n",
              "    var pass_mouse_events = true;\n",
              "\n",
              "    canvas_div.resizable({\n",
              "        start: function(event, ui) {\n",
              "            pass_mouse_events = false;\n",
              "        },\n",
              "        resize: function(event, ui) {\n",
              "            fig.request_resize(ui.size.width, ui.size.height);\n",
              "        },\n",
              "        stop: function(event, ui) {\n",
              "            pass_mouse_events = true;\n",
              "            fig.request_resize(ui.size.width, ui.size.height);\n",
              "        },\n",
              "    });\n",
              "\n",
              "    function mouse_event_fn(event) {\n",
              "        if (pass_mouse_events)\n",
              "            return fig.mouse_event(event, event['data']);\n",
              "    }\n",
              "\n",
              "    rubberband.mousedown('button_press', mouse_event_fn);\n",
              "    rubberband.mouseup('button_release', mouse_event_fn);\n",
              "    // Throttle sequential mouse events to 1 every 20ms.\n",
              "    rubberband.mousemove('motion_notify', mouse_event_fn);\n",
              "\n",
              "    rubberband.mouseenter('figure_enter', mouse_event_fn);\n",
              "    rubberband.mouseleave('figure_leave', mouse_event_fn);\n",
              "\n",
              "    canvas_div.on(\"wheel\", function (event) {\n",
              "        event = event.originalEvent;\n",
              "        event['data'] = 'scroll'\n",
              "        if (event.deltaY < 0) {\n",
              "            event.step = 1;\n",
              "        } else {\n",
              "            event.step = -1;\n",
              "        }\n",
              "        mouse_event_fn(event);\n",
              "    });\n",
              "\n",
              "    canvas_div.append(canvas);\n",
              "    canvas_div.append(rubberband);\n",
              "\n",
              "    this.rubberband = rubberband;\n",
              "    this.rubberband_canvas = rubberband[0];\n",
              "    this.rubberband_context = rubberband[0].getContext(\"2d\");\n",
              "    this.rubberband_context.strokeStyle = \"#000000\";\n",
              "\n",
              "    this._resize_canvas = function(width, height) {\n",
              "        // Keep the size of the canvas, canvas container, and rubber band\n",
              "        // canvas in synch.\n",
              "        canvas_div.css('width', width)\n",
              "        canvas_div.css('height', height)\n",
              "\n",
              "        canvas.attr('width', width * mpl.ratio);\n",
              "        canvas.attr('height', height * mpl.ratio);\n",
              "        canvas.attr('style', 'width: ' + width + 'px; height: ' + height + 'px;');\n",
              "\n",
              "        rubberband.attr('width', width);\n",
              "        rubberband.attr('height', height);\n",
              "    }\n",
              "\n",
              "    // Set the figure to an initial 600x600px, this will subsequently be updated\n",
              "    // upon first draw.\n",
              "    this._resize_canvas(600, 600);\n",
              "\n",
              "    // Disable right mouse context menu.\n",
              "    $(this.rubberband_canvas).bind(\"contextmenu\",function(e){\n",
              "        return false;\n",
              "    });\n",
              "\n",
              "    function set_focus () {\n",
              "        canvas.focus();\n",
              "        canvas_div.focus();\n",
              "    }\n",
              "\n",
              "    window.setTimeout(set_focus, 100);\n",
              "}\n",
              "\n",
              "mpl.figure.prototype._init_toolbar = function() {\n",
              "    var fig = this;\n",
              "\n",
              "    var nav_element = $('<div/>')\n",
              "    nav_element.attr('style', 'width: 100%');\n",
              "    this.root.append(nav_element);\n",
              "\n",
              "    // Define a callback function for later on.\n",
              "    function toolbar_event(event) {\n",
              "        return fig.toolbar_button_onclick(event['data']);\n",
              "    }\n",
              "    function toolbar_mouse_event(event) {\n",
              "        return fig.toolbar_button_onmouseover(event['data']);\n",
              "    }\n",
              "\n",
              "    for(var toolbar_ind in mpl.toolbar_items) {\n",
              "        var name = mpl.toolbar_items[toolbar_ind][0];\n",
              "        var tooltip = mpl.toolbar_items[toolbar_ind][1];\n",
              "        var image = mpl.toolbar_items[toolbar_ind][2];\n",
              "        var method_name = mpl.toolbar_items[toolbar_ind][3];\n",
              "\n",
              "        if (!name) {\n",
              "            // put a spacer in here.\n",
              "            continue;\n",
              "        }\n",
              "        var button = $('<button/>');\n",
              "        button.addClass('ui-button ui-widget ui-state-default ui-corner-all ' +\n",
              "                        'ui-button-icon-only');\n",
              "        button.attr('role', 'button');\n",
              "        button.attr('aria-disabled', 'false');\n",
              "        button.click(method_name, toolbar_event);\n",
              "        button.mouseover(tooltip, toolbar_mouse_event);\n",
              "\n",
              "        var icon_img = $('<span/>');\n",
              "        icon_img.addClass('ui-button-icon-primary ui-icon');\n",
              "        icon_img.addClass(image);\n",
              "        icon_img.addClass('ui-corner-all');\n",
              "\n",
              "        var tooltip_span = $('<span/>');\n",
              "        tooltip_span.addClass('ui-button-text');\n",
              "        tooltip_span.html(tooltip);\n",
              "\n",
              "        button.append(icon_img);\n",
              "        button.append(tooltip_span);\n",
              "\n",
              "        nav_element.append(button);\n",
              "    }\n",
              "\n",
              "    var fmt_picker_span = $('<span/>');\n",
              "\n",
              "    var fmt_picker = $('<select/>');\n",
              "    fmt_picker.addClass('mpl-toolbar-option ui-widget ui-widget-content');\n",
              "    fmt_picker_span.append(fmt_picker);\n",
              "    nav_element.append(fmt_picker_span);\n",
              "    this.format_dropdown = fmt_picker[0];\n",
              "\n",
              "    for (var ind in mpl.extensions) {\n",
              "        var fmt = mpl.extensions[ind];\n",
              "        var option = $(\n",
              "            '<option/>', {selected: fmt === mpl.default_extension}).html(fmt);\n",
              "        fmt_picker.append(option)\n",
              "    }\n",
              "\n",
              "    // Add hover states to the ui-buttons\n",
              "    $( \".ui-button\" ).hover(\n",
              "        function() { $(this).addClass(\"ui-state-hover\");},\n",
              "        function() { $(this).removeClass(\"ui-state-hover\");}\n",
              "    );\n",
              "\n",
              "    var status_bar = $('<span class=\"mpl-message\"/>');\n",
              "    nav_element.append(status_bar);\n",
              "    this.message = status_bar[0];\n",
              "}\n",
              "\n",
              "mpl.figure.prototype.request_resize = function(x_pixels, y_pixels) {\n",
              "    // Request matplotlib to resize the figure. Matplotlib will then trigger a resize in the client,\n",
              "    // which will in turn request a refresh of the image.\n",
              "    this.send_message('resize', {'width': x_pixels, 'height': y_pixels});\n",
              "}\n",
              "\n",
              "mpl.figure.prototype.send_message = function(type, properties) {\n",
              "    properties['type'] = type;\n",
              "    properties['figure_id'] = this.id;\n",
              "    this.ws.send(JSON.stringify(properties));\n",
              "}\n",
              "\n",
              "mpl.figure.prototype.send_draw_message = function() {\n",
              "    if (!this.waiting) {\n",
              "        this.waiting = true;\n",
              "        this.ws.send(JSON.stringify({type: \"draw\", figure_id: this.id}));\n",
              "    }\n",
              "}\n",
              "\n",
              "\n",
              "mpl.figure.prototype.handle_save = function(fig, msg) {\n",
              "    var format_dropdown = fig.format_dropdown;\n",
              "    var format = format_dropdown.options[format_dropdown.selectedIndex].value;\n",
              "    fig.ondownload(fig, format);\n",
              "}\n",
              "\n",
              "\n",
              "mpl.figure.prototype.handle_resize = function(fig, msg) {\n",
              "    var size = msg['size'];\n",
              "    if (size[0] != fig.canvas.width || size[1] != fig.canvas.height) {\n",
              "        fig._resize_canvas(size[0], size[1]);\n",
              "        fig.send_message(\"refresh\", {});\n",
              "    };\n",
              "}\n",
              "\n",
              "mpl.figure.prototype.handle_rubberband = function(fig, msg) {\n",
              "    var x0 = msg['x0'] / mpl.ratio;\n",
              "    var y0 = (fig.canvas.height - msg['y0']) / mpl.ratio;\n",
              "    var x1 = msg['x1'] / mpl.ratio;\n",
              "    var y1 = (fig.canvas.height - msg['y1']) / mpl.ratio;\n",
              "    x0 = Math.floor(x0) + 0.5;\n",
              "    y0 = Math.floor(y0) + 0.5;\n",
              "    x1 = Math.floor(x1) + 0.5;\n",
              "    y1 = Math.floor(y1) + 0.5;\n",
              "    var min_x = Math.min(x0, x1);\n",
              "    var min_y = Math.min(y0, y1);\n",
              "    var width = Math.abs(x1 - x0);\n",
              "    var height = Math.abs(y1 - y0);\n",
              "\n",
              "    fig.rubberband_context.clearRect(\n",
              "        0, 0, fig.canvas.width, fig.canvas.height);\n",
              "\n",
              "    fig.rubberband_context.strokeRect(min_x, min_y, width, height);\n",
              "}\n",
              "\n",
              "mpl.figure.prototype.handle_figure_label = function(fig, msg) {\n",
              "    // Updates the figure title.\n",
              "    fig.header.textContent = msg['label'];\n",
              "}\n",
              "\n",
              "mpl.figure.prototype.handle_cursor = function(fig, msg) {\n",
              "    var cursor = msg['cursor'];\n",
              "    switch(cursor)\n",
              "    {\n",
              "    case 0:\n",
              "        cursor = 'pointer';\n",
              "        break;\n",
              "    case 1:\n",
              "        cursor = 'default';\n",
              "        break;\n",
              "    case 2:\n",
              "        cursor = 'crosshair';\n",
              "        break;\n",
              "    case 3:\n",
              "        cursor = 'move';\n",
              "        break;\n",
              "    }\n",
              "    fig.rubberband_canvas.style.cursor = cursor;\n",
              "}\n",
              "\n",
              "mpl.figure.prototype.handle_message = function(fig, msg) {\n",
              "    fig.message.textContent = msg['message'];\n",
              "}\n",
              "\n",
              "mpl.figure.prototype.handle_draw = function(fig, msg) {\n",
              "    // Request the server to send over a new figure.\n",
              "    fig.send_draw_message();\n",
              "}\n",
              "\n",
              "mpl.figure.prototype.handle_image_mode = function(fig, msg) {\n",
              "    fig.image_mode = msg['mode'];\n",
              "}\n",
              "\n",
              "mpl.figure.prototype.updated_canvas_event = function() {\n",
              "    // Called whenever the canvas gets updated.\n",
              "    this.send_message(\"ack\", {});\n",
              "}\n",
              "\n",
              "// A function to construct a web socket function for onmessage handling.\n",
              "// Called in the figure constructor.\n",
              "mpl.figure.prototype._make_on_message_function = function(fig) {\n",
              "    return function socket_on_message(evt) {\n",
              "        if (evt.data instanceof Blob) {\n",
              "            /* FIXME: We get \"Resource interpreted as Image but\n",
              "             * transferred with MIME type text/plain:\" errors on\n",
              "             * Chrome.  But how to set the MIME type?  It doesn't seem\n",
              "             * to be part of the websocket stream */\n",
              "            evt.data.type = \"image/png\";\n",
              "\n",
              "            /* Free the memory for the previous frames */\n",
              "            if (fig.imageObj.src) {\n",
              "                (window.URL || window.webkitURL).revokeObjectURL(\n",
              "                    fig.imageObj.src);\n",
              "            }\n",
              "\n",
              "            fig.imageObj.src = (window.URL || window.webkitURL).createObjectURL(\n",
              "                evt.data);\n",
              "            fig.updated_canvas_event();\n",
              "            fig.waiting = false;\n",
              "            return;\n",
              "        }\n",
              "        else if (typeof evt.data === 'string' && evt.data.slice(0, 21) == \"data:image/png;base64\") {\n",
              "            fig.imageObj.src = evt.data;\n",
              "            fig.updated_canvas_event();\n",
              "            fig.waiting = false;\n",
              "            return;\n",
              "        }\n",
              "\n",
              "        var msg = JSON.parse(evt.data);\n",
              "        var msg_type = msg['type'];\n",
              "\n",
              "        // Call the  \"handle_{type}\" callback, which takes\n",
              "        // the figure and JSON message as its only arguments.\n",
              "        try {\n",
              "            var callback = fig[\"handle_\" + msg_type];\n",
              "        } catch (e) {\n",
              "            console.log(\"No handler for the '\" + msg_type + \"' message type: \", msg);\n",
              "            return;\n",
              "        }\n",
              "\n",
              "        if (callback) {\n",
              "            try {\n",
              "                // console.log(\"Handling '\" + msg_type + \"' message: \", msg);\n",
              "                callback(fig, msg);\n",
              "            } catch (e) {\n",
              "                console.log(\"Exception inside the 'handler_\" + msg_type + \"' callback:\", e, e.stack, msg);\n",
              "            }\n",
              "        }\n",
              "    };\n",
              "}\n",
              "\n",
              "// from http://stackoverflow.com/questions/1114465/getting-mouse-location-in-canvas\n",
              "mpl.findpos = function(e) {\n",
              "    //this section is from http://www.quirksmode.org/js/events_properties.html\n",
              "    var targ;\n",
              "    if (!e)\n",
              "        e = window.event;\n",
              "    if (e.target)\n",
              "        targ = e.target;\n",
              "    else if (e.srcElement)\n",
              "        targ = e.srcElement;\n",
              "    if (targ.nodeType == 3) // defeat Safari bug\n",
              "        targ = targ.parentNode;\n",
              "\n",
              "    // jQuery normalizes the pageX and pageY\n",
              "    // pageX,Y are the mouse positions relative to the document\n",
              "    // offset() returns the position of the element relative to the document\n",
              "    var x = e.pageX - $(targ).offset().left;\n",
              "    var y = e.pageY - $(targ).offset().top;\n",
              "\n",
              "    return {\"x\": x, \"y\": y};\n",
              "};\n",
              "\n",
              "/*\n",
              " * return a copy of an object with only non-object keys\n",
              " * we need this to avoid circular references\n",
              " * http://stackoverflow.com/a/24161582/3208463\n",
              " */\n",
              "function simpleKeys (original) {\n",
              "  return Object.keys(original).reduce(function (obj, key) {\n",
              "    if (typeof original[key] !== 'object')\n",
              "        obj[key] = original[key]\n",
              "    return obj;\n",
              "  }, {});\n",
              "}\n",
              "\n",
              "mpl.figure.prototype.mouse_event = function(event, name) {\n",
              "    var canvas_pos = mpl.findpos(event)\n",
              "\n",
              "    if (name === 'button_press')\n",
              "    {\n",
              "        this.canvas.focus();\n",
              "        this.canvas_div.focus();\n",
              "    }\n",
              "\n",
              "    var x = canvas_pos.x * mpl.ratio;\n",
              "    var y = canvas_pos.y * mpl.ratio;\n",
              "\n",
              "    this.send_message(name, {x: x, y: y, button: event.button,\n",
              "                             step: event.step,\n",
              "                             guiEvent: simpleKeys(event)});\n",
              "\n",
              "    /* This prevents the web browser from automatically changing to\n",
              "     * the text insertion cursor when the button is pressed.  We want\n",
              "     * to control all of the cursor setting manually through the\n",
              "     * 'cursor' event from matplotlib */\n",
              "    event.preventDefault();\n",
              "    return false;\n",
              "}\n",
              "\n",
              "mpl.figure.prototype._key_event_extra = function(event, name) {\n",
              "    // Handle any extra behaviour associated with a key event\n",
              "}\n",
              "\n",
              "mpl.figure.prototype.key_event = function(event, name) {\n",
              "\n",
              "    // Prevent repeat events\n",
              "    if (name == 'key_press')\n",
              "    {\n",
              "        if (event.which === this._key)\n",
              "            return;\n",
              "        else\n",
              "            this._key = event.which;\n",
              "    }\n",
              "    if (name == 'key_release')\n",
              "        this._key = null;\n",
              "\n",
              "    var value = '';\n",
              "    if (event.ctrlKey && event.which != 17)\n",
              "        value += \"ctrl+\";\n",
              "    if (event.altKey && event.which != 18)\n",
              "        value += \"alt+\";\n",
              "    if (event.shiftKey && event.which != 16)\n",
              "        value += \"shift+\";\n",
              "\n",
              "    value += 'k';\n",
              "    value += event.which.toString();\n",
              "\n",
              "    this._key_event_extra(event, name);\n",
              "\n",
              "    this.send_message(name, {key: value,\n",
              "                             guiEvent: simpleKeys(event)});\n",
              "    return false;\n",
              "}\n",
              "\n",
              "mpl.figure.prototype.toolbar_button_onclick = function(name) {\n",
              "    if (name == 'download') {\n",
              "        this.handle_save(this, null);\n",
              "    } else {\n",
              "        this.send_message(\"toolbar_button\", {name: name});\n",
              "    }\n",
              "};\n",
              "\n",
              "mpl.figure.prototype.toolbar_button_onmouseover = function(tooltip) {\n",
              "    this.message.textContent = tooltip;\n",
              "};\n",
              "mpl.toolbar_items = [[\"Home\", \"Reset original view\", \"fa fa-home icon-home\", \"home\"], [\"Back\", \"Back to  previous view\", \"fa fa-arrow-left icon-arrow-left\", \"back\"], [\"Forward\", \"Forward to next view\", \"fa fa-arrow-right icon-arrow-right\", \"forward\"], [\"\", \"\", \"\", \"\"], [\"Pan\", \"Pan axes with left mouse, zoom with right\", \"fa fa-arrows icon-move\", \"pan\"], [\"Zoom\", \"Zoom to rectangle\", \"fa fa-square-o icon-check-empty\", \"zoom\"], [\"\", \"\", \"\", \"\"], [\"Download\", \"Download plot\", \"fa fa-floppy-o icon-save\", \"download\"]];\n",
              "\n",
              "mpl.extensions = [\"eps\", \"jpeg\", \"pdf\", \"png\", \"ps\", \"raw\", \"svg\", \"tif\"];\n",
              "\n",
              "mpl.default_extension = \"png\";var comm_websocket_adapter = function(comm) {\n",
              "    // Create a \"websocket\"-like object which calls the given IPython comm\n",
              "    // object with the appropriate methods. Currently this is a non binary\n",
              "    // socket, so there is still some room for performance tuning.\n",
              "    var ws = {};\n",
              "\n",
              "    ws.close = function() {\n",
              "        comm.close()\n",
              "    };\n",
              "    ws.send = function(m) {\n",
              "        //console.log('sending', m);\n",
              "        comm.send(m);\n",
              "    };\n",
              "    // Register the callback with on_msg.\n",
              "    comm.on_msg(function(msg) {\n",
              "        //console.log('receiving', msg['content']['data'], msg);\n",
              "        // Pass the mpl event to the overriden (by mpl) onmessage function.\n",
              "        ws.onmessage(msg['content']['data'])\n",
              "    });\n",
              "    return ws;\n",
              "}\n",
              "\n",
              "mpl.mpl_figure_comm = function(comm, msg) {\n",
              "    // This is the function which gets called when the mpl process\n",
              "    // starts-up an IPython Comm through the \"matplotlib\" channel.\n",
              "\n",
              "    var id = msg.content.data.id;\n",
              "    // Get hold of the div created by the display call when the Comm\n",
              "    // socket was opened in Python.\n",
              "    var element = $(\"#\" + id);\n",
              "    var ws_proxy = comm_websocket_adapter(comm)\n",
              "\n",
              "    function ondownload(figure, format) {\n",
              "        window.open(figure.imageObj.src);\n",
              "    }\n",
              "\n",
              "    var fig = new mpl.figure(id, ws_proxy,\n",
              "                           ondownload,\n",
              "                           element.get(0));\n",
              "\n",
              "    // Call onopen now - mpl needs it, as it is assuming we've passed it a real\n",
              "    // web socket which is closed, not our websocket->open comm proxy.\n",
              "    ws_proxy.onopen();\n",
              "\n",
              "    fig.parent_element = element.get(0);\n",
              "    fig.cell_info = mpl.find_output_cell(\"<div id='\" + id + \"'></div>\");\n",
              "    if (!fig.cell_info) {\n",
              "        console.error(\"Failed to find cell for figure\", id, fig);\n",
              "        return;\n",
              "    }\n",
              "\n",
              "    var output_index = fig.cell_info[2]\n",
              "    var cell = fig.cell_info[0];\n",
              "\n",
              "};\n",
              "\n",
              "mpl.figure.prototype.handle_close = function(fig, msg) {\n",
              "    var width = fig.canvas.width/mpl.ratio\n",
              "    fig.root.unbind('remove')\n",
              "\n",
              "    // Update the output cell to use the data from the current canvas.\n",
              "    fig.push_to_output();\n",
              "    var dataURL = fig.canvas.toDataURL();\n",
              "    // Re-enable the keyboard manager in IPython - without this line, in FF,\n",
              "    // the notebook keyboard shortcuts fail.\n",
              "    IPython.keyboard_manager.enable()\n",
              "    $(fig.parent_element).html('<img src=\"' + dataURL + '\" width=\"' + width + '\">');\n",
              "    fig.close_ws(fig, msg);\n",
              "}\n",
              "\n",
              "mpl.figure.prototype.close_ws = function(fig, msg){\n",
              "    fig.send_message('closing', msg);\n",
              "    // fig.ws.close()\n",
              "}\n",
              "\n",
              "mpl.figure.prototype.push_to_output = function(remove_interactive) {\n",
              "    // Turn the data on the canvas into data in the output cell.\n",
              "    var width = this.canvas.width/mpl.ratio\n",
              "    var dataURL = this.canvas.toDataURL();\n",
              "    this.cell_info[1]['text/html'] = '<img src=\"' + dataURL + '\" width=\"' + width + '\">';\n",
              "}\n",
              "\n",
              "mpl.figure.prototype.updated_canvas_event = function() {\n",
              "    // Tell IPython that the notebook contents must change.\n",
              "    IPython.notebook.set_dirty(true);\n",
              "    this.send_message(\"ack\", {});\n",
              "    var fig = this;\n",
              "    // Wait a second, then push the new image to the DOM so\n",
              "    // that it is saved nicely (might be nice to debounce this).\n",
              "    setTimeout(function () { fig.push_to_output() }, 1000);\n",
              "}\n",
              "\n",
              "mpl.figure.prototype._init_toolbar = function() {\n",
              "    var fig = this;\n",
              "\n",
              "    var nav_element = $('<div/>')\n",
              "    nav_element.attr('style', 'width: 100%');\n",
              "    this.root.append(nav_element);\n",
              "\n",
              "    // Define a callback function for later on.\n",
              "    function toolbar_event(event) {\n",
              "        return fig.toolbar_button_onclick(event['data']);\n",
              "    }\n",
              "    function toolbar_mouse_event(event) {\n",
              "        return fig.toolbar_button_onmouseover(event['data']);\n",
              "    }\n",
              "\n",
              "    for(var toolbar_ind in mpl.toolbar_items){\n",
              "        var name = mpl.toolbar_items[toolbar_ind][0];\n",
              "        var tooltip = mpl.toolbar_items[toolbar_ind][1];\n",
              "        var image = mpl.toolbar_items[toolbar_ind][2];\n",
              "        var method_name = mpl.toolbar_items[toolbar_ind][3];\n",
              "\n",
              "        if (!name) { continue; };\n",
              "\n",
              "        var button = $('<button class=\"btn btn-default\" href=\"#\" title=\"' + name + '\"><i class=\"fa ' + image + ' fa-lg\"></i></button>');\n",
              "        button.click(method_name, toolbar_event);\n",
              "        button.mouseover(tooltip, toolbar_mouse_event);\n",
              "        nav_element.append(button);\n",
              "    }\n",
              "\n",
              "    // Add the status bar.\n",
              "    var status_bar = $('<span class=\"mpl-message\" style=\"text-align:right; float: right;\"/>');\n",
              "    nav_element.append(status_bar);\n",
              "    this.message = status_bar[0];\n",
              "\n",
              "    // Add the close button to the window.\n",
              "    var buttongrp = $('<div class=\"btn-group inline pull-right\"></div>');\n",
              "    var button = $('<button class=\"btn btn-mini btn-primary\" href=\"#\" title=\"Stop Interaction\"><i class=\"fa fa-power-off icon-remove icon-large\"></i></button>');\n",
              "    button.click(function (evt) { fig.handle_close(fig, {}); } );\n",
              "    button.mouseover('Stop Interaction', toolbar_mouse_event);\n",
              "    buttongrp.append(button);\n",
              "    var titlebar = this.root.find($('.ui-dialog-titlebar'));\n",
              "    titlebar.prepend(buttongrp);\n",
              "}\n",
              "\n",
              "mpl.figure.prototype._root_extra_style = function(el){\n",
              "    var fig = this\n",
              "    el.on(\"remove\", function(){\n",
              "\tfig.close_ws(fig, {});\n",
              "    });\n",
              "}\n",
              "\n",
              "mpl.figure.prototype._canvas_extra_style = function(el){\n",
              "    // this is important to make the div 'focusable\n",
              "    el.attr('tabindex', 0)\n",
              "    // reach out to IPython and tell the keyboard manager to turn it's self\n",
              "    // off when our div gets focus\n",
              "\n",
              "    // location in version 3\n",
              "    if (IPython.notebook.keyboard_manager) {\n",
              "        IPython.notebook.keyboard_manager.register_events(el);\n",
              "    }\n",
              "    else {\n",
              "        // location in version 2\n",
              "        IPython.keyboard_manager.register_events(el);\n",
              "    }\n",
              "\n",
              "}\n",
              "\n",
              "mpl.figure.prototype._key_event_extra = function(event, name) {\n",
              "    var manager = IPython.notebook.keyboard_manager;\n",
              "    if (!manager)\n",
              "        manager = IPython.keyboard_manager;\n",
              "\n",
              "    // Check for shift+enter\n",
              "    if (event.shiftKey && event.which == 13) {\n",
              "        this.canvas_div.blur();\n",
              "        // select the cell after this one\n",
              "        var index = IPython.notebook.find_cell_index(this.cell_info[0]);\n",
              "        IPython.notebook.select(index + 1);\n",
              "    }\n",
              "}\n",
              "\n",
              "mpl.figure.prototype.handle_save = function(fig, msg) {\n",
              "    fig.ondownload(fig, null);\n",
              "}\n",
              "\n",
              "\n",
              "mpl.find_output_cell = function(html_output) {\n",
              "    // Return the cell and output element which can be found *uniquely* in the notebook.\n",
              "    // Note - this is a bit hacky, but it is done because the \"notebook_saving.Notebook\"\n",
              "    // IPython event is triggered only after the cells have been serialised, which for\n",
              "    // our purposes (turning an active figure into a static one), is too late.\n",
              "    var cells = IPython.notebook.get_cells();\n",
              "    var ncells = cells.length;\n",
              "    for (var i=0; i<ncells; i++) {\n",
              "        var cell = cells[i];\n",
              "        if (cell.cell_type === 'code'){\n",
              "            for (var j=0; j<cell.output_area.outputs.length; j++) {\n",
              "                var data = cell.output_area.outputs[j];\n",
              "                if (data.data) {\n",
              "                    // IPython >= 3 moved mimebundle to data attribute of output\n",
              "                    data = data.data;\n",
              "                }\n",
              "                if (data['text/html'] == html_output) {\n",
              "                    return [cell, data, j];\n",
              "                }\n",
              "            }\n",
              "        }\n",
              "    }\n",
              "}\n",
              "\n",
              "// Register the function which deals with the matplotlib target/channel.\n",
              "// The kernel may be null if the page has been refreshed.\n",
              "if (IPython.notebook.kernel != null) {\n",
              "    IPython.notebook.kernel.comm_manager.register_target('matplotlib', mpl.mpl_figure_comm);\n",
              "}\n"
            ],
            "text/plain": [
              "<IPython.core.display.Javascript object>"
            ]
          },
          "metadata": {
            "tags": []
          }
        },
        {
          "output_type": "display_data",
          "data": {
            "text/html": [
              "<img src=\"data:image/png;base64,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\" width=\"640\">"
            ],
            "text/plain": [
              "<IPython.core.display.HTML object>"
            ]
          },
          "metadata": {
            "tags": []
          }
        }
      ]
    },
    {
      "cell_type": "code",
      "metadata": {
        "id": "7sH1M3edYXmW"
      },
      "source": [
        ""
      ],
      "execution_count": null,
      "outputs": []
    }
  ]
}